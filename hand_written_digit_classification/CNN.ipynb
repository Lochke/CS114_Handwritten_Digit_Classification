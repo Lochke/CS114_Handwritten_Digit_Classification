{
  "nbformat": 4,
  "nbformat_minor": 0,
  "metadata": {
    "colab": {
      "provenance": []
    },
    "kernelspec": {
      "name": "python3",
      "display_name": "Python 3"
    },
    "language_info": {
      "name": "python"
    }
  },
  "cells": [
    {
      "cell_type": "code",
      "execution_count": 1,
      "metadata": {
        "id": "fAmL6hVczir3",
        "colab": {
          "base_uri": "https://localhost:8080/"
        },
        "outputId": "d18f8b14-3902-46ee-9d54-d27bb65fb425"
      },
      "outputs": [
        {
          "output_type": "stream",
          "name": "stdout",
          "text": [
            "Mounted at /gdrive\n"
          ]
        }
      ],
      "source": [
        "from google.colab import drive\n",
        "drive.mount('/gdrive',force_remount=True)"
      ]
    },
    {
      "cell_type": "code",
      "source": [
        "data_dir = '/content/drive/MyDrive/cs114.hwdr'"
      ],
      "metadata": {
        "id": "FWvrkVqIzu7E"
      },
      "execution_count": 3,
      "outputs": []
    },
    {
      "cell_type": "code",
      "source": [
        "data_2025 = '/content/drive/MyDrive/data.2025'"
      ],
      "metadata": {
        "id": "TFrlE69_haDU"
      },
      "execution_count": 335,
      "outputs": []
    },
    {
      "cell_type": "code",
      "source": [
        " from torchvision import datasets\n",
        " from torchvision.transforms import ToTensor"
      ],
      "metadata": {
        "id": "UCgXvpDe00m_"
      },
      "execution_count": 4,
      "outputs": []
    },
    {
      "cell_type": "code",
      "source": [
        "train_data = datasets.MNIST(\n",
        "    root = 'data',\n",
        "    train = True,\n",
        "    transform = ToTensor(),\n",
        "    download = True,\n",
        ")\n",
        "\n",
        "test_data = datasets.MNIST(\n",
        "    root = 'data',\n",
        "    train = False,\n",
        "    transform = ToTensor(),\n",
        "    download = True,\n",
        ")"
      ],
      "metadata": {
        "id": "6aLmr3HX1Jen"
      },
      "execution_count": 5,
      "outputs": []
    },
    {
      "cell_type": "code",
      "source": [
        "train_data"
      ],
      "metadata": {
        "colab": {
          "base_uri": "https://localhost:8080/"
        },
        "id": "djzjiy0U1VB7",
        "outputId": "5b30686f-75a5-49b1-9617-01f39c4539d9"
      },
      "execution_count": 6,
      "outputs": [
        {
          "output_type": "execute_result",
          "data": {
            "text/plain": [
              "Dataset MNIST\n",
              "    Number of datapoints: 60000\n",
              "    Root location: data\n",
              "    Split: Train\n",
              "    StandardTransform\n",
              "Transform: ToTensor()"
            ]
          },
          "metadata": {},
          "execution_count": 6
        }
      ]
    },
    {
      "cell_type": "code",
      "source": [
        "train_data.data.shape"
      ],
      "metadata": {
        "colab": {
          "base_uri": "https://localhost:8080/"
        },
        "id": "K9P-gwXi1uy7",
        "outputId": "b81be3c5-0f21-448d-ad62-fa24d69b257a"
      },
      "execution_count": 7,
      "outputs": [
        {
          "output_type": "execute_result",
          "data": {
            "text/plain": [
              "torch.Size([60000, 28, 28])"
            ]
          },
          "metadata": {},
          "execution_count": 7
        }
      ]
    },
    {
      "cell_type": "code",
      "source": [
        "train_data.targets.size()"
      ],
      "metadata": {
        "colab": {
          "base_uri": "https://localhost:8080/"
        },
        "id": "Z10YBDK-17fQ",
        "outputId": "8b898c7e-c0a1-48b4-b269-c0a1546691ea"
      },
      "execution_count": 8,
      "outputs": [
        {
          "output_type": "execute_result",
          "data": {
            "text/plain": [
              "torch.Size([60000])"
            ]
          },
          "metadata": {},
          "execution_count": 8
        }
      ]
    },
    {
      "cell_type": "code",
      "source": [
        "train_data.targets"
      ],
      "metadata": {
        "colab": {
          "base_uri": "https://localhost:8080/"
        },
        "id": "ybpKv3jy2Be4",
        "outputId": "f493fd8a-f690-4845-d6b1-63777487bd1e"
      },
      "execution_count": 9,
      "outputs": [
        {
          "output_type": "execute_result",
          "data": {
            "text/plain": [
              "tensor([5, 0, 4,  ..., 5, 6, 8])"
            ]
          },
          "metadata": {},
          "execution_count": 9
        }
      ]
    },
    {
      "cell_type": "code",
      "source": [
        "test_data"
      ],
      "metadata": {
        "colab": {
          "base_uri": "https://localhost:8080/"
        },
        "id": "usVqvASF1r-t",
        "outputId": "7b217428-c84c-443f-93e7-f37aeedfcb09"
      },
      "execution_count": 10,
      "outputs": [
        {
          "output_type": "execute_result",
          "data": {
            "text/plain": [
              "Dataset MNIST\n",
              "    Number of datapoints: 10000\n",
              "    Root location: data\n",
              "    Split: Test\n",
              "    StandardTransform\n",
              "Transform: ToTensor()"
            ]
          },
          "metadata": {},
          "execution_count": 10
        }
      ]
    },
    {
      "cell_type": "code",
      "source": [
        "test_data.data.shape"
      ],
      "metadata": {
        "colab": {
          "base_uri": "https://localhost:8080/"
        },
        "id": "yqZ1n08_10dL",
        "outputId": "b7eeacec-066b-4abd-ba9e-ac74cd67b831"
      },
      "execution_count": 11,
      "outputs": [
        {
          "output_type": "execute_result",
          "data": {
            "text/plain": [
              "torch.Size([10000, 28, 28])"
            ]
          },
          "metadata": {},
          "execution_count": 11
        }
      ]
    },
    {
      "cell_type": "code",
      "source": [
        "test_data.targets.size()"
      ],
      "metadata": {
        "colab": {
          "base_uri": "https://localhost:8080/"
        },
        "id": "phLGQA2s158w",
        "outputId": "717e5eb6-a89b-4ed2-e674-59865a322fef"
      },
      "execution_count": 12,
      "outputs": [
        {
          "output_type": "execute_result",
          "data": {
            "text/plain": [
              "torch.Size([10000])"
            ]
          },
          "metadata": {},
          "execution_count": 12
        }
      ]
    },
    {
      "cell_type": "code",
      "source": [
        "test_data.targets"
      ],
      "metadata": {
        "colab": {
          "base_uri": "https://localhost:8080/"
        },
        "id": "2DXjM0eR2HbO",
        "outputId": "f18ac037-5ea6-4f12-b401-5757dad7330e"
      },
      "execution_count": 13,
      "outputs": [
        {
          "output_type": "execute_result",
          "data": {
            "text/plain": [
              "tensor([7, 2, 1,  ..., 4, 5, 6])"
            ]
          },
          "metadata": {},
          "execution_count": 13
        }
      ]
    },
    {
      "cell_type": "code",
      "source": [
        "from torch.utils.data import DataLoader\n",
        "\n",
        "loaders = {\n",
        "    'train' : DataLoader(train_data,\n",
        "                         batch_size=100,\n",
        "                         shuffle=True,\n",
        "                         num_workers=1),\n",
        "    'test'  : DataLoader(test_data,\n",
        "                         batch_size=100,\n",
        "                         shuffle=False,\n",
        "                         num_workers=1),\n",
        "}"
      ],
      "metadata": {
        "id": "vVVKiumN2PkB"
      },
      "execution_count": 14,
      "outputs": []
    },
    {
      "cell_type": "code",
      "source": [
        "loaders"
      ],
      "metadata": {
        "colab": {
          "base_uri": "https://localhost:8080/"
        },
        "id": "B6-lsR_22dqV",
        "outputId": "b395030a-9ca3-47b0-e0a9-d8c2cdbc5579"
      },
      "execution_count": 15,
      "outputs": [
        {
          "output_type": "execute_result",
          "data": {
            "text/plain": [
              "{'train': <torch.utils.data.dataloader.DataLoader at 0x7e31d95835d0>,\n",
              " 'test': <torch.utils.data.dataloader.DataLoader at 0x7e32d8bbe190>}"
            ]
          },
          "metadata": {},
          "execution_count": 15
        }
      ]
    },
    {
      "cell_type": "code",
      "source": [
        "import torch.nn as nn\n",
        "import torch.nn.functional as F\n",
        "import torch.optim as optim\n",
        "\n",
        "class CNN(nn.Module):\n",
        "\n",
        "    def __init__(self):\n",
        "        super(CNN, self).__init__()\n",
        "\n",
        "        self.conv1 = nn.Conv2d(1,10, kernel_size=5)\n",
        "        self.conv2 = nn.Conv2d(10,20, kernel_size=5)\n",
        "        self.conv2_drop = nn.Dropout2d()\n",
        "        self.fc1 = nn.Linear(320,50)\n",
        "        self.fc2 = nn.Linear(50,10)\n",
        "\n",
        "    def forward(self, x):\n",
        "        x = F.relu(F.max_pool2d(self.conv1(x),2))\n",
        "        x = F.relu(F.max_pool2d(self.conv2_drop(self.conv2(x)),2))\n",
        "        x = x.view(-1,320)\n",
        "        x = F.relu(self.fc1(x))\n",
        "        x = F.dropout(x, training=self.training)\n",
        "        x = self.fc2(x)\n",
        "\n",
        "        return x"
      ],
      "metadata": {
        "id": "CBSWZhT72uRC"
      },
      "execution_count": 16,
      "outputs": []
    },
    {
      "cell_type": "code",
      "source": [
        "import torch\n",
        "\n",
        "device = torch.device(\"cuda\" if torch.cuda.is_available() else \"cpu\")\n",
        "\n",
        "model = CNN().to(device)\n",
        "\n",
        "optimizer = optim.Adam(model.parameters(), lr=0.001)\n",
        "\n",
        "error = nn.CrossEntropyLoss()\n",
        "\n",
        "loss_fn = nn.CrossEntropyLoss()\n",
        "\n",
        "def train(epoch):\n",
        "    model.train()\n",
        "    for batch_idx, (data, target) in enumerate(loaders['train']):\n",
        "        data, target = data.to(device), target.to(device)\n",
        "        optimizer.zero_grad()\n",
        "        output = model(data)\n",
        "        loss = loss_fn(output, target)\n",
        "        loss.backward()\n",
        "        optimizer.step()\n",
        "        if batch_idx % 20 == 0:\n",
        "            print(f'Train Epoch: {epoch} [{batch_idx * len(data)}/{len(loaders[\"train\"].dataset)} ({100. * batch_idx / len(loaders[\"train\"]):.0f}%)]\\t{loss.item():.6f}')\n",
        "\n",
        "def test():\n",
        "    model.eval()\n",
        "\n",
        "    test_loss = 0\n",
        "    correct = 0\n",
        "\n",
        "    with torch.no_grad():\n",
        "        for data, target in loaders['test']:\n",
        "            data, target = data.to(device), target.to(device)\n",
        "            output = model(data)\n",
        "            test_loss += loss_fn(output, target).item()\n",
        "            pred = output.argmax(dim=1, keepdim=True)\n",
        "            correct += pred.eq(target.view_as(pred)).sum().item()\n",
        "\n",
        "    test_loss /= len(loaders['test'].dataset)\n",
        "    print(f'\\nTest set: Average loss: {test_loss:.4f}, Accuracy: {correct}/{len(loaders[\"test\"].dataset)} ({100. * correct / len(loaders[\"test\"].dataset):.0f}%\\n)')"
      ],
      "metadata": {
        "id": "pJPofwn23h3O"
      },
      "execution_count": 17,
      "outputs": []
    },
    {
      "cell_type": "code",
      "source": [
        "for epoch in range(1,11):\n",
        "    train(epoch)\n",
        "    test()"
      ],
      "metadata": {
        "colab": {
          "base_uri": "https://localhost:8080/"
        },
        "id": "6oIhMV6C8gz9",
        "outputId": "4da8f03c-221b-4dfa-c3e8-add860dbfdd9"
      },
      "execution_count": 18,
      "outputs": [
        {
          "output_type": "stream",
          "name": "stdout",
          "text": [
            "Train Epoch: 1 [0/60000 (0%)]\t2.325001\n",
            "Train Epoch: 1 [2000/60000 (3%)]\t2.245045\n",
            "Train Epoch: 1 [4000/60000 (7%)]\t1.744776\n",
            "Train Epoch: 1 [6000/60000 (10%)]\t0.996704\n",
            "Train Epoch: 1 [8000/60000 (13%)]\t0.822061\n",
            "Train Epoch: 1 [10000/60000 (17%)]\t0.767611\n",
            "Train Epoch: 1 [12000/60000 (20%)]\t0.694880\n",
            "Train Epoch: 1 [14000/60000 (23%)]\t0.733726\n",
            "Train Epoch: 1 [16000/60000 (27%)]\t0.506026\n",
            "Train Epoch: 1 [18000/60000 (30%)]\t0.493372\n",
            "Train Epoch: 1 [20000/60000 (33%)]\t0.588058\n",
            "Train Epoch: 1 [22000/60000 (37%)]\t0.431786\n",
            "Train Epoch: 1 [24000/60000 (40%)]\t0.497605\n",
            "Train Epoch: 1 [26000/60000 (43%)]\t0.472104\n",
            "Train Epoch: 1 [28000/60000 (47%)]\t0.430152\n",
            "Train Epoch: 1 [30000/60000 (50%)]\t0.268300\n",
            "Train Epoch: 1 [32000/60000 (53%)]\t0.341884\n",
            "Train Epoch: 1 [34000/60000 (57%)]\t0.341721\n",
            "Train Epoch: 1 [36000/60000 (60%)]\t0.342242\n",
            "Train Epoch: 1 [38000/60000 (63%)]\t0.533174\n",
            "Train Epoch: 1 [40000/60000 (67%)]\t0.471410\n",
            "Train Epoch: 1 [42000/60000 (70%)]\t0.319248\n",
            "Train Epoch: 1 [44000/60000 (73%)]\t0.339103\n",
            "Train Epoch: 1 [46000/60000 (77%)]\t0.366961\n",
            "Train Epoch: 1 [48000/60000 (80%)]\t0.354956\n",
            "Train Epoch: 1 [50000/60000 (83%)]\t0.312219\n",
            "Train Epoch: 1 [52000/60000 (87%)]\t0.322174\n",
            "Train Epoch: 1 [54000/60000 (90%)]\t0.281005\n",
            "Train Epoch: 1 [56000/60000 (93%)]\t0.117049\n",
            "Train Epoch: 1 [58000/60000 (97%)]\t0.325922\n",
            "\n",
            "Test set: Average loss: 0.0012, Accuracy: 9606/10000 (96%\n",
            ")\n",
            "Train Epoch: 2 [0/60000 (0%)]\t0.397986\n",
            "Train Epoch: 2 [2000/60000 (3%)]\t0.291956\n",
            "Train Epoch: 2 [4000/60000 (7%)]\t0.243186\n",
            "Train Epoch: 2 [6000/60000 (10%)]\t0.338110\n",
            "Train Epoch: 2 [8000/60000 (13%)]\t0.249013\n",
            "Train Epoch: 2 [10000/60000 (17%)]\t0.328180\n",
            "Train Epoch: 2 [12000/60000 (20%)]\t0.170112\n",
            "Train Epoch: 2 [14000/60000 (23%)]\t0.390559\n",
            "Train Epoch: 2 [16000/60000 (27%)]\t0.434826\n",
            "Train Epoch: 2 [18000/60000 (30%)]\t0.289102\n",
            "Train Epoch: 2 [20000/60000 (33%)]\t0.281436\n",
            "Train Epoch: 2 [22000/60000 (37%)]\t0.521560\n",
            "Train Epoch: 2 [24000/60000 (40%)]\t0.450509\n",
            "Train Epoch: 2 [26000/60000 (43%)]\t0.186795\n",
            "Train Epoch: 2 [28000/60000 (47%)]\t0.326916\n",
            "Train Epoch: 2 [30000/60000 (50%)]\t0.294112\n",
            "Train Epoch: 2 [32000/60000 (53%)]\t0.189671\n",
            "Train Epoch: 2 [34000/60000 (57%)]\t0.636726\n",
            "Train Epoch: 2 [36000/60000 (60%)]\t0.162145\n",
            "Train Epoch: 2 [38000/60000 (63%)]\t0.213144\n",
            "Train Epoch: 2 [40000/60000 (67%)]\t0.106549\n",
            "Train Epoch: 2 [42000/60000 (70%)]\t0.162342\n",
            "Train Epoch: 2 [44000/60000 (73%)]\t0.161055\n",
            "Train Epoch: 2 [46000/60000 (77%)]\t0.416698\n",
            "Train Epoch: 2 [48000/60000 (80%)]\t0.184435\n",
            "Train Epoch: 2 [50000/60000 (83%)]\t0.380267\n",
            "Train Epoch: 2 [52000/60000 (87%)]\t0.325699\n",
            "Train Epoch: 2 [54000/60000 (90%)]\t0.338561\n",
            "Train Epoch: 2 [56000/60000 (93%)]\t0.191332\n",
            "Train Epoch: 2 [58000/60000 (97%)]\t0.229365\n",
            "\n",
            "Test set: Average loss: 0.0008, Accuracy: 9740/10000 (97%\n",
            ")\n",
            "Train Epoch: 3 [0/60000 (0%)]\t0.333852\n",
            "Train Epoch: 3 [2000/60000 (3%)]\t0.166346\n",
            "Train Epoch: 3 [4000/60000 (7%)]\t0.182740\n",
            "Train Epoch: 3 [6000/60000 (10%)]\t0.136316\n",
            "Train Epoch: 3 [8000/60000 (13%)]\t0.247339\n",
            "Train Epoch: 3 [10000/60000 (17%)]\t0.130543\n",
            "Train Epoch: 3 [12000/60000 (20%)]\t0.246311\n",
            "Train Epoch: 3 [14000/60000 (23%)]\t0.401119\n",
            "Train Epoch: 3 [16000/60000 (27%)]\t0.211315\n",
            "Train Epoch: 3 [18000/60000 (30%)]\t0.199052\n",
            "Train Epoch: 3 [20000/60000 (33%)]\t0.142611\n",
            "Train Epoch: 3 [22000/60000 (37%)]\t0.196684\n",
            "Train Epoch: 3 [24000/60000 (40%)]\t0.282143\n",
            "Train Epoch: 3 [26000/60000 (43%)]\t0.197022\n",
            "Train Epoch: 3 [28000/60000 (47%)]\t0.267597\n",
            "Train Epoch: 3 [30000/60000 (50%)]\t0.380446\n",
            "Train Epoch: 3 [32000/60000 (53%)]\t0.206092\n",
            "Train Epoch: 3 [34000/60000 (57%)]\t0.498105\n",
            "Train Epoch: 3 [36000/60000 (60%)]\t0.188777\n",
            "Train Epoch: 3 [38000/60000 (63%)]\t0.255645\n",
            "Train Epoch: 3 [40000/60000 (67%)]\t0.119286\n",
            "Train Epoch: 3 [42000/60000 (70%)]\t0.175775\n",
            "Train Epoch: 3 [44000/60000 (73%)]\t0.192268\n",
            "Train Epoch: 3 [46000/60000 (77%)]\t0.210627\n",
            "Train Epoch: 3 [48000/60000 (80%)]\t0.330243\n",
            "Train Epoch: 3 [50000/60000 (83%)]\t0.204722\n",
            "Train Epoch: 3 [52000/60000 (87%)]\t0.133367\n",
            "Train Epoch: 3 [54000/60000 (90%)]\t0.185127\n",
            "Train Epoch: 3 [56000/60000 (93%)]\t0.123100\n",
            "Train Epoch: 3 [58000/60000 (97%)]\t0.219148\n",
            "\n",
            "Test set: Average loss: 0.0007, Accuracy: 9765/10000 (98%\n",
            ")\n",
            "Train Epoch: 4 [0/60000 (0%)]\t0.414202\n",
            "Train Epoch: 4 [2000/60000 (3%)]\t0.061427\n",
            "Train Epoch: 4 [4000/60000 (7%)]\t0.239782\n",
            "Train Epoch: 4 [6000/60000 (10%)]\t0.152527\n",
            "Train Epoch: 4 [8000/60000 (13%)]\t0.186678\n",
            "Train Epoch: 4 [10000/60000 (17%)]\t0.131233\n",
            "Train Epoch: 4 [12000/60000 (20%)]\t0.390599\n",
            "Train Epoch: 4 [14000/60000 (23%)]\t0.172987\n",
            "Train Epoch: 4 [16000/60000 (27%)]\t0.203461\n",
            "Train Epoch: 4 [18000/60000 (30%)]\t0.152406\n",
            "Train Epoch: 4 [20000/60000 (33%)]\t0.094540\n",
            "Train Epoch: 4 [22000/60000 (37%)]\t0.219914\n",
            "Train Epoch: 4 [24000/60000 (40%)]\t0.209894\n",
            "Train Epoch: 4 [26000/60000 (43%)]\t0.206758\n",
            "Train Epoch: 4 [28000/60000 (47%)]\t0.249137\n",
            "Train Epoch: 4 [30000/60000 (50%)]\t0.068935\n",
            "Train Epoch: 4 [32000/60000 (53%)]\t0.109022\n",
            "Train Epoch: 4 [34000/60000 (57%)]\t0.165772\n",
            "Train Epoch: 4 [36000/60000 (60%)]\t0.170194\n",
            "Train Epoch: 4 [38000/60000 (63%)]\t0.236683\n",
            "Train Epoch: 4 [40000/60000 (67%)]\t0.202346\n",
            "Train Epoch: 4 [42000/60000 (70%)]\t0.118322\n",
            "Train Epoch: 4 [44000/60000 (73%)]\t0.125065\n",
            "Train Epoch: 4 [46000/60000 (77%)]\t0.166073\n",
            "Train Epoch: 4 [48000/60000 (80%)]\t0.096178\n",
            "Train Epoch: 4 [50000/60000 (83%)]\t0.140211\n",
            "Train Epoch: 4 [52000/60000 (87%)]\t0.116499\n",
            "Train Epoch: 4 [54000/60000 (90%)]\t0.304131\n",
            "Train Epoch: 4 [56000/60000 (93%)]\t0.244530\n",
            "Train Epoch: 4 [58000/60000 (97%)]\t0.334475\n",
            "\n",
            "Test set: Average loss: 0.0006, Accuracy: 9795/10000 (98%\n",
            ")\n",
            "Train Epoch: 5 [0/60000 (0%)]\t0.085623\n",
            "Train Epoch: 5 [2000/60000 (3%)]\t0.165463\n",
            "Train Epoch: 5 [4000/60000 (7%)]\t0.167632\n",
            "Train Epoch: 5 [6000/60000 (10%)]\t0.131962\n",
            "Train Epoch: 5 [8000/60000 (13%)]\t0.133870\n",
            "Train Epoch: 5 [10000/60000 (17%)]\t0.212900\n",
            "Train Epoch: 5 [12000/60000 (20%)]\t0.197309\n",
            "Train Epoch: 5 [14000/60000 (23%)]\t0.164216\n",
            "Train Epoch: 5 [16000/60000 (27%)]\t0.159038\n",
            "Train Epoch: 5 [18000/60000 (30%)]\t0.164670\n",
            "Train Epoch: 5 [20000/60000 (33%)]\t0.121907\n",
            "Train Epoch: 5 [22000/60000 (37%)]\t0.343151\n",
            "Train Epoch: 5 [24000/60000 (40%)]\t0.161159\n",
            "Train Epoch: 5 [26000/60000 (43%)]\t0.159352\n",
            "Train Epoch: 5 [28000/60000 (47%)]\t0.153868\n",
            "Train Epoch: 5 [30000/60000 (50%)]\t0.158812\n",
            "Train Epoch: 5 [32000/60000 (53%)]\t0.362351\n",
            "Train Epoch: 5 [34000/60000 (57%)]\t0.444994\n",
            "Train Epoch: 5 [36000/60000 (60%)]\t0.185851\n",
            "Train Epoch: 5 [38000/60000 (63%)]\t0.174716\n",
            "Train Epoch: 5 [40000/60000 (67%)]\t0.148103\n",
            "Train Epoch: 5 [42000/60000 (70%)]\t0.125295\n",
            "Train Epoch: 5 [44000/60000 (73%)]\t0.205491\n",
            "Train Epoch: 5 [46000/60000 (77%)]\t0.145151\n",
            "Train Epoch: 5 [48000/60000 (80%)]\t0.132451\n",
            "Train Epoch: 5 [50000/60000 (83%)]\t0.106995\n",
            "Train Epoch: 5 [52000/60000 (87%)]\t0.206784\n",
            "Train Epoch: 5 [54000/60000 (90%)]\t0.076339\n",
            "Train Epoch: 5 [56000/60000 (93%)]\t0.159003\n",
            "Train Epoch: 5 [58000/60000 (97%)]\t0.081105\n",
            "\n",
            "Test set: Average loss: 0.0006, Accuracy: 9816/10000 (98%\n",
            ")\n",
            "Train Epoch: 6 [0/60000 (0%)]\t0.150967\n",
            "Train Epoch: 6 [2000/60000 (3%)]\t0.137330\n",
            "Train Epoch: 6 [4000/60000 (7%)]\t0.256755\n",
            "Train Epoch: 6 [6000/60000 (10%)]\t0.222468\n",
            "Train Epoch: 6 [8000/60000 (13%)]\t0.107341\n",
            "Train Epoch: 6 [10000/60000 (17%)]\t0.183366\n",
            "Train Epoch: 6 [12000/60000 (20%)]\t0.161596\n",
            "Train Epoch: 6 [14000/60000 (23%)]\t0.272184\n",
            "Train Epoch: 6 [16000/60000 (27%)]\t0.365849\n",
            "Train Epoch: 6 [18000/60000 (30%)]\t0.159784\n",
            "Train Epoch: 6 [20000/60000 (33%)]\t0.136593\n",
            "Train Epoch: 6 [22000/60000 (37%)]\t0.303398\n",
            "Train Epoch: 6 [24000/60000 (40%)]\t0.134806\n",
            "Train Epoch: 6 [26000/60000 (43%)]\t0.129141\n",
            "Train Epoch: 6 [28000/60000 (47%)]\t0.231960\n",
            "Train Epoch: 6 [30000/60000 (50%)]\t0.166690\n",
            "Train Epoch: 6 [32000/60000 (53%)]\t0.325103\n",
            "Train Epoch: 6 [34000/60000 (57%)]\t0.226919\n",
            "Train Epoch: 6 [36000/60000 (60%)]\t0.114508\n",
            "Train Epoch: 6 [38000/60000 (63%)]\t0.109392\n",
            "Train Epoch: 6 [40000/60000 (67%)]\t0.230634\n",
            "Train Epoch: 6 [42000/60000 (70%)]\t0.110123\n",
            "Train Epoch: 6 [44000/60000 (73%)]\t0.163822\n",
            "Train Epoch: 6 [46000/60000 (77%)]\t0.109815\n",
            "Train Epoch: 6 [48000/60000 (80%)]\t0.165969\n",
            "Train Epoch: 6 [50000/60000 (83%)]\t0.072987\n",
            "Train Epoch: 6 [52000/60000 (87%)]\t0.129920\n",
            "Train Epoch: 6 [54000/60000 (90%)]\t0.108057\n",
            "Train Epoch: 6 [56000/60000 (93%)]\t0.152819\n",
            "Train Epoch: 6 [58000/60000 (97%)]\t0.235369\n",
            "\n",
            "Test set: Average loss: 0.0006, Accuracy: 9815/10000 (98%\n",
            ")\n",
            "Train Epoch: 7 [0/60000 (0%)]\t0.228117\n",
            "Train Epoch: 7 [2000/60000 (3%)]\t0.126569\n",
            "Train Epoch: 7 [4000/60000 (7%)]\t0.173323\n",
            "Train Epoch: 7 [6000/60000 (10%)]\t0.213172\n",
            "Train Epoch: 7 [8000/60000 (13%)]\t0.236483\n",
            "Train Epoch: 7 [10000/60000 (17%)]\t0.118320\n",
            "Train Epoch: 7 [12000/60000 (20%)]\t0.403524\n",
            "Train Epoch: 7 [14000/60000 (23%)]\t0.132669\n",
            "Train Epoch: 7 [16000/60000 (27%)]\t0.085015\n",
            "Train Epoch: 7 [18000/60000 (30%)]\t0.200206\n",
            "Train Epoch: 7 [20000/60000 (33%)]\t0.091108\n",
            "Train Epoch: 7 [22000/60000 (37%)]\t0.465853\n",
            "Train Epoch: 7 [24000/60000 (40%)]\t0.286020\n",
            "Train Epoch: 7 [26000/60000 (43%)]\t0.085924\n",
            "Train Epoch: 7 [28000/60000 (47%)]\t0.292211\n",
            "Train Epoch: 7 [30000/60000 (50%)]\t0.163066\n",
            "Train Epoch: 7 [32000/60000 (53%)]\t0.151452\n",
            "Train Epoch: 7 [34000/60000 (57%)]\t0.194944\n",
            "Train Epoch: 7 [36000/60000 (60%)]\t0.289880\n",
            "Train Epoch: 7 [38000/60000 (63%)]\t0.246590\n",
            "Train Epoch: 7 [40000/60000 (67%)]\t0.128438\n",
            "Train Epoch: 7 [42000/60000 (70%)]\t0.162847\n",
            "Train Epoch: 7 [44000/60000 (73%)]\t0.142879\n",
            "Train Epoch: 7 [46000/60000 (77%)]\t0.188441\n",
            "Train Epoch: 7 [48000/60000 (80%)]\t0.222720\n",
            "Train Epoch: 7 [50000/60000 (83%)]\t0.252424\n",
            "Train Epoch: 7 [52000/60000 (87%)]\t0.316274\n",
            "Train Epoch: 7 [54000/60000 (90%)]\t0.307962\n",
            "Train Epoch: 7 [56000/60000 (93%)]\t0.111516\n",
            "Train Epoch: 7 [58000/60000 (97%)]\t0.118355\n",
            "\n",
            "Test set: Average loss: 0.0005, Accuracy: 9830/10000 (98%\n",
            ")\n",
            "Train Epoch: 8 [0/60000 (0%)]\t0.165235\n",
            "Train Epoch: 8 [2000/60000 (3%)]\t0.144442\n",
            "Train Epoch: 8 [4000/60000 (7%)]\t0.175991\n",
            "Train Epoch: 8 [6000/60000 (10%)]\t0.111618\n",
            "Train Epoch: 8 [8000/60000 (13%)]\t0.110956\n",
            "Train Epoch: 8 [10000/60000 (17%)]\t0.140034\n",
            "Train Epoch: 8 [12000/60000 (20%)]\t0.099967\n",
            "Train Epoch: 8 [14000/60000 (23%)]\t0.134411\n",
            "Train Epoch: 8 [16000/60000 (27%)]\t0.181918\n",
            "Train Epoch: 8 [18000/60000 (30%)]\t0.188414\n",
            "Train Epoch: 8 [20000/60000 (33%)]\t0.379321\n",
            "Train Epoch: 8 [22000/60000 (37%)]\t0.172750\n",
            "Train Epoch: 8 [24000/60000 (40%)]\t0.112607\n",
            "Train Epoch: 8 [26000/60000 (43%)]\t0.110749\n",
            "Train Epoch: 8 [28000/60000 (47%)]\t0.256256\n",
            "Train Epoch: 8 [30000/60000 (50%)]\t0.183288\n",
            "Train Epoch: 8 [32000/60000 (53%)]\t0.063326\n",
            "Train Epoch: 8 [34000/60000 (57%)]\t0.298421\n",
            "Train Epoch: 8 [36000/60000 (60%)]\t0.140239\n",
            "Train Epoch: 8 [38000/60000 (63%)]\t0.181014\n",
            "Train Epoch: 8 [40000/60000 (67%)]\t0.130873\n",
            "Train Epoch: 8 [42000/60000 (70%)]\t0.219894\n",
            "Train Epoch: 8 [44000/60000 (73%)]\t0.117371\n",
            "Train Epoch: 8 [46000/60000 (77%)]\t0.115418\n",
            "Train Epoch: 8 [48000/60000 (80%)]\t0.091264\n",
            "Train Epoch: 8 [50000/60000 (83%)]\t0.134408\n",
            "Train Epoch: 8 [52000/60000 (87%)]\t0.237682\n",
            "Train Epoch: 8 [54000/60000 (90%)]\t0.129049\n",
            "Train Epoch: 8 [56000/60000 (93%)]\t0.149464\n",
            "Train Epoch: 8 [58000/60000 (97%)]\t0.157924\n",
            "\n",
            "Test set: Average loss: 0.0005, Accuracy: 9846/10000 (98%\n",
            ")\n",
            "Train Epoch: 9 [0/60000 (0%)]\t0.096232\n",
            "Train Epoch: 9 [2000/60000 (3%)]\t0.087631\n",
            "Train Epoch: 9 [4000/60000 (7%)]\t0.057755\n",
            "Train Epoch: 9 [6000/60000 (10%)]\t0.175481\n",
            "Train Epoch: 9 [8000/60000 (13%)]\t0.222624\n",
            "Train Epoch: 9 [10000/60000 (17%)]\t0.136545\n",
            "Train Epoch: 9 [12000/60000 (20%)]\t0.098479\n",
            "Train Epoch: 9 [14000/60000 (23%)]\t0.153796\n",
            "Train Epoch: 9 [16000/60000 (27%)]\t0.114652\n",
            "Train Epoch: 9 [18000/60000 (30%)]\t0.182753\n",
            "Train Epoch: 9 [20000/60000 (33%)]\t0.062332\n",
            "Train Epoch: 9 [22000/60000 (37%)]\t0.084828\n",
            "Train Epoch: 9 [24000/60000 (40%)]\t0.114731\n",
            "Train Epoch: 9 [26000/60000 (43%)]\t0.085879\n",
            "Train Epoch: 9 [28000/60000 (47%)]\t0.121074\n",
            "Train Epoch: 9 [30000/60000 (50%)]\t0.136006\n",
            "Train Epoch: 9 [32000/60000 (53%)]\t0.189539\n",
            "Train Epoch: 9 [34000/60000 (57%)]\t0.145975\n",
            "Train Epoch: 9 [36000/60000 (60%)]\t0.205709\n",
            "Train Epoch: 9 [38000/60000 (63%)]\t0.130748\n",
            "Train Epoch: 9 [40000/60000 (67%)]\t0.042034\n",
            "Train Epoch: 9 [42000/60000 (70%)]\t0.053292\n",
            "Train Epoch: 9 [44000/60000 (73%)]\t0.202274\n",
            "Train Epoch: 9 [46000/60000 (77%)]\t0.141402\n",
            "Train Epoch: 9 [48000/60000 (80%)]\t0.294135\n",
            "Train Epoch: 9 [50000/60000 (83%)]\t0.166929\n",
            "Train Epoch: 9 [52000/60000 (87%)]\t0.137197\n",
            "Train Epoch: 9 [54000/60000 (90%)]\t0.113403\n",
            "Train Epoch: 9 [56000/60000 (93%)]\t0.135983\n",
            "Train Epoch: 9 [58000/60000 (97%)]\t0.169769\n",
            "\n",
            "Test set: Average loss: 0.0005, Accuracy: 9842/10000 (98%\n",
            ")\n",
            "Train Epoch: 10 [0/60000 (0%)]\t0.082944\n",
            "Train Epoch: 10 [2000/60000 (3%)]\t0.095396\n",
            "Train Epoch: 10 [4000/60000 (7%)]\t0.138075\n",
            "Train Epoch: 10 [6000/60000 (10%)]\t0.242651\n",
            "Train Epoch: 10 [8000/60000 (13%)]\t0.079849\n",
            "Train Epoch: 10 [10000/60000 (17%)]\t0.168838\n",
            "Train Epoch: 10 [12000/60000 (20%)]\t0.094710\n",
            "Train Epoch: 10 [14000/60000 (23%)]\t0.199217\n",
            "Train Epoch: 10 [16000/60000 (27%)]\t0.219274\n",
            "Train Epoch: 10 [18000/60000 (30%)]\t0.222464\n",
            "Train Epoch: 10 [20000/60000 (33%)]\t0.073334\n",
            "Train Epoch: 10 [22000/60000 (37%)]\t0.096132\n",
            "Train Epoch: 10 [24000/60000 (40%)]\t0.169725\n",
            "Train Epoch: 10 [26000/60000 (43%)]\t0.110484\n",
            "Train Epoch: 10 [28000/60000 (47%)]\t0.217939\n",
            "Train Epoch: 10 [30000/60000 (50%)]\t0.117907\n",
            "Train Epoch: 10 [32000/60000 (53%)]\t0.211285\n",
            "Train Epoch: 10 [34000/60000 (57%)]\t0.065123\n",
            "Train Epoch: 10 [36000/60000 (60%)]\t0.089154\n",
            "Train Epoch: 10 [38000/60000 (63%)]\t0.064443\n",
            "Train Epoch: 10 [40000/60000 (67%)]\t0.093377\n",
            "Train Epoch: 10 [42000/60000 (70%)]\t0.094209\n",
            "Train Epoch: 10 [44000/60000 (73%)]\t0.209217\n",
            "Train Epoch: 10 [46000/60000 (77%)]\t0.142332\n",
            "Train Epoch: 10 [48000/60000 (80%)]\t0.105365\n",
            "Train Epoch: 10 [50000/60000 (83%)]\t0.111843\n",
            "Train Epoch: 10 [52000/60000 (87%)]\t0.058151\n",
            "Train Epoch: 10 [54000/60000 (90%)]\t0.067331\n",
            "Train Epoch: 10 [56000/60000 (93%)]\t0.155151\n",
            "Train Epoch: 10 [58000/60000 (97%)]\t0.120727\n",
            "\n",
            "Test set: Average loss: 0.0005, Accuracy: 9848/10000 (98%\n",
            ")\n"
          ]
        }
      ]
    },
    {
      "cell_type": "code",
      "source": [
        "device"
      ],
      "metadata": {
        "colab": {
          "base_uri": "https://localhost:8080/"
        },
        "id": "Rm3ECQ8p-wXE",
        "outputId": "87c60b86-b798-47f0-ccc5-16cabd1ac1c7"
      },
      "execution_count": 21,
      "outputs": [
        {
          "output_type": "execute_result",
          "data": {
            "text/plain": [
              "device(type='cpu')"
            ]
          },
          "metadata": {},
          "execution_count": 21
        }
      ]
    },
    {
      "cell_type": "code",
      "source": [
        "import matplotlib.pyplot as plt\n",
        "\n",
        "model.eval()\n",
        "\n",
        "data, target = test_data[9567]\n",
        "\n",
        "data = data.unsqueeze(0).to(device)\n",
        "\n",
        "output = model(data)\n",
        "\n",
        "prediction = output.argmax(dim=1,keepdim=True).item()\n",
        "\n",
        "print(f'Prediction: {prediction}')\n",
        "\n",
        "image = data.squeeze(0).squeeze(0).cpu().numpy()\n",
        "\n",
        "plt.imshow(image, cmap='gray')\n",
        "plt.show()"
      ],
      "metadata": {
        "colab": {
          "base_uri": "https://localhost:8080/",
          "height": 447
        },
        "id": "LNB9enVW-5ji",
        "outputId": "7ea51684-3ffb-4ebf-90c6-97519b937fb2"
      },
      "execution_count": 255,
      "outputs": [
        {
          "output_type": "stream",
          "name": "stdout",
          "text": [
            "Prediction: 7\n"
          ]
        },
        {
          "output_type": "display_data",
          "data": {
            "text/plain": [
              "<Figure size 640x480 with 1 Axes>"
            ],
            "image/png": "[encoded data removed]"
          },
          "metadata": {}
        }
      ]
    },
    {
      "cell_type": "code",
      "source": [
        "torch.save(model.state_dict(), '/content/drive/MyDrive/cnn_model.pth')\n",
        "print(\"✅ Model đã được lưu vào Google Drive\")"
      ],
      "metadata": {
        "colab": {
          "base_uri": "https://localhost:8080/"
        },
        "id": "VCAUXVQABqVN",
        "outputId": "b95ed96e-8e27-4c25-f1f1-f68b3f12cfd7"
      },
      "execution_count": 24,
      "outputs": [
        {
          "output_type": "stream",
          "name": "stdout",
          "text": [
            "✅ Model đã được lưu vào Google Drive\n"
          ]
        }
      ]
    },
    {
      "cell_type": "code",
      "source": [
        "from scipy import ndimage\n",
        "import cv2\n",
        "import numpy as np\n",
        "from PIL import Image\n",
        "import torchvision.transforms as transforms\n",
        "\n",
        "def auto_threshold_params(image_np):\n",
        "    std = np.std(image_np)\n",
        "    if std < 30:\n",
        "        return 11, 2\n",
        "    elif std < 50:\n",
        "        return 15, 4\n",
        "    else:\n",
        "        return 21, 6\n",
        "\n",
        "def remove_lines(thresh_img):\n",
        "    # Kernel cho đường ngang và dọc\n",
        "    horizontal_kernel = cv2.getStructuringElement(cv2.MORPH_RECT, (40, 1))\n",
        "    vertical_kernel = cv2.getStructuringElement(cv2.MORPH_RECT, (1, 40))\n",
        "\n",
        "    # Tìm và loại bỏ đường ngang\n",
        "    horizontal_lines = cv2.morphologyEx(thresh_img, cv2.MORPH_OPEN, horizontal_kernel, iterations=1)\n",
        "    # Tìm và loại bỏ đường dọc\n",
        "    vertical_lines = cv2.morphologyEx(thresh_img, cv2.MORPH_OPEN, vertical_kernel, iterations=1)\n",
        "\n",
        "    # Kết hợp các đường\n",
        "    lines = cv2.bitwise_or(horizontal_lines, vertical_lines)\n",
        "\n",
        "    # Trừ đường kẻ ra khỏi ảnh\n",
        "    cleaned = cv2.subtract(thresh_img, lines)\n",
        "    return cleaned\n",
        "\n",
        "def center_image(img):\n",
        "    cy, cx = ndimage.center_of_mass(img)\n",
        "    shiftx = np.round(img.shape[1] / 2.0 - cx).astype(int)\n",
        "    shifty = np.round(img.shape[0] / 2.0 - cy).astype(int)\n",
        "    return ndimage.shift(img, shift=(shifty, shiftx), mode='constant', cval=0)\n",
        "\n",
        "def preprocess_image(img_path):\n",
        "    image = Image.open(img_path).convert(\"L\")\n",
        "    image_np = np.array(image)\n",
        "\n",
        "    # Adaptive threshold với blockSize và C tự động\n",
        "    blockSize, C = auto_threshold_params(image_np)\n",
        "    blurred = cv2.GaussianBlur(image_np, (5, 5), 0)\n",
        "    thresh = cv2.adaptiveThreshold(blurred, 255,\n",
        "                                   cv2.ADAPTIVE_THRESH_GAUSSIAN_C,\n",
        "                                   cv2.THRESH_BINARY_INV, blockSize, C)\n",
        "\n",
        "    # Xóa đường kẻ ô tập\n",
        "    thresh_clean = remove_lines(thresh)\n",
        "\n",
        "    # Tìm contour\n",
        "    contours, _ = cv2.findContours(thresh_clean, cv2.RETR_EXTERNAL, cv2.CHAIN_APPROX_SIMPLE)\n",
        "    valid_contours = []\n",
        "    for c in contours:\n",
        "        x, y, w, h = cv2.boundingRect(c)\n",
        "        if h > 10 and w > 5:\n",
        "            valid_contours.append(c)\n",
        "\n",
        "    if not valid_contours:\n",
        "        raise ValueError(\"Không có contour đủ lớn\")\n",
        "\n",
        "    xs, ys, xe, ye = [], [], [], []\n",
        "    for c in valid_contours:\n",
        "        x, y, w, h = cv2.boundingRect(c)\n",
        "        xs.append(x)\n",
        "        ys.append(y)\n",
        "        xe.append(x + w)\n",
        "        ye.append(y + h)\n",
        "    x1, y1 = max(min(xs) - 5, 0), max(min(ys) - 5, 0)\n",
        "    x2, y2 = min(max(xe) + 5, thresh.shape[1]), min(max(ye) + 5, thresh.shape[0])\n",
        "\n",
        "    digit = thresh_clean[y1:y2, x1:x2]\n",
        "    digit = cv2.resize(digit, (20, 20), interpolation=cv2.INTER_AREA)\n",
        "    digit = np.pad(digit, ((4, 4), (4, 4)), mode='constant', constant_values=0)\n",
        "    digit = center_image(digit)\n",
        "\n",
        "    tensor = transforms.ToTensor()(digit).unsqueeze(0)\n",
        "    return tensor\n"
      ],
      "metadata": {
        "id": "rWxUJr2-4HgV"
      },
      "execution_count": 350,
      "outputs": []
    },
    {
      "cell_type": "code",
      "source": [
        "model = CNN()  # Ví dụ: CNN() hoặc ResNet18(...)\n",
        "model.load_state_dict(torch.load('/content/drive/MyDrive/cnn_model.pth', map_location=device))\n",
        "model = model.to(device)\n",
        "model.eval()\n"
      ],
      "metadata": {
        "colab": {
          "base_uri": "https://localhost:8080/"
        },
        "id": "Wzy-ClcvThaN",
        "outputId": "1221d31f-b13b-4331-f6b2-f3a9f62b7ea4"
      },
      "execution_count": 345,
      "outputs": [
        {
          "output_type": "execute_result",
          "data": {
            "text/plain": [
              "CNN(\n",
              "  (conv1): Conv2d(1, 10, kernel_size=(5, 5), stride=(1, 1))\n",
              "  (conv2): Conv2d(10, 20, kernel_size=(5, 5), stride=(1, 1))\n",
              "  (conv2_drop): Dropout2d(p=0.5, inplace=False)\n",
              "  (fc1): Linear(in_features=320, out_features=50, bias=True)\n",
              "  (fc2): Linear(in_features=50, out_features=10, bias=True)\n",
              ")"
            ]
          },
          "metadata": {},
          "execution_count": 345
        }
      ]
    },
    {
      "cell_type": "code",
      "source": [
        "def predict_single_image(filename):\n",
        "    path = os.path.join('/content/drive/MyDrive/cs114.hwdr', filename)\n",
        "    tensor_image = preprocess_image(path).to(device)\n",
        "\n",
        "    with torch.no_grad():\n",
        "        output = model(tensor_image)\n",
        "        pred = output.argmax(dim=1).item()\n",
        "\n",
        "    print(f\"✅ Dự đoán ảnh `{filename}` là số: {pred}\")\n",
        "    plt.imshow(tensor_image.squeeze().cpu().numpy(), cmap='gray')\n",
        "    plt.title(f'Predicted: {pred}')\n",
        "    plt.axis('off')\n",
        "    plt.show()\n",
        "    return pred\n"
      ],
      "metadata": {
        "id": "p8kyPb6DCVx-"
      },
      "execution_count": 351,
      "outputs": []
    },
    {
      "cell_type": "code",
      "source": [
        "import os"
      ],
      "metadata": {
        "id": "87IAGoOvCmfa"
      },
      "execution_count": 347,
      "outputs": []
    },
    {
      "cell_type": "code",
      "source": [
        "from os import listdir\n",
        "import os # Import the os module if it's not already imported in this cell\n",
        "\n",
        "sample_images = sorted([f for f in os.listdir('/content/drive/MyDrive/cs114.hwdr') if f.lower().endswith(('.heic', '.jpg', '.png', '.jpeg'))])[:20]\n",
        "for f in sample_images:\n",
        "    predict_single_image(f)"
      ],
      "metadata": {
        "colab": {
          "base_uri": "https://localhost:8080/",
          "height": 1000
        },
        "id": "Bdw98pk9CdyW",
        "outputId": "2e3a2644-2604-4334-f671-a25b46f2a724"
      },
      "execution_count": 352,
      "outputs": [
        {
          "output_type": "stream",
          "name": "stdout",
          "text": [
            "✅ Dự đoán ảnh `0003f95fe5b6aea891f325385aa6032b  -.jpg` là số: 4\n"
          ]
        },
        {
          "output_type": "display_data",
          "data": {
            "text/plain": [
              "<Figure size 640x480 with 1 Axes>"
            ],
            "image/png": "[encoded data removed]"
          },
          "metadata": {}
        },
        {
          "output_type": "stream",
          "name": "stdout",
          "text": [
            "✅ Dự đoán ảnh `000caf706334cf9598988fbf3e103a0c  -.jpg` là số: 8\n"
          ]
        },
        {
          "output_type": "display_data",
          "data": {
            "text/plain": [
              "<Figure size 640x480 with 1 Axes>"
            ],
            "image/png": "[encoded data removed]"
          },
          "metadata": {}
        },
        {
          "output_type": "stream",
          "name": "stdout",
          "text": [
            "✅ Dự đoán ảnh `00165d6f69c3be0eeb5d6d25c178daae  -.png` là số: 7\n"
          ]
        },
        {
          "output_type": "display_data",
          "data": {
            "text/plain": [
              "<Figure size 640x480 with 1 Axes>"
            ],
            "image/png": "[encoded data removed]"
          },
          "metadata": {}
        },
        {
          "output_type": "stream",
          "name": "stdout",
          "text": [
            "✅ Dự đoán ảnh `0046d4f9232ff35acf873edaff070522  -.png` là số: 4\n"
          ]
        },
        {
          "output_type": "display_data",
          "data": {
            "text/plain": [
              "<Figure size 640x480 with 1 Axes>"
            ],
            "image/png": "[encoded data removed]"
          },
          "metadata": {}
        },
        {
          "output_type": "stream",
          "name": "stdout",
          "text": [
            "✅ Dự đoán ảnh `004ddc4f534a704ea71855acd75c2847  -.jpg` là số: 4\n"
          ]
        },
        {
          "output_type": "display_data",
          "data": {
            "text/plain": [
              "<Figure size 640x480 with 1 Axes>"
            ],
            "image/png": "[encoded data removed]"
          },
          "metadata": {}
        },
        {
          "output_type": "stream",
          "name": "stdout",
          "text": [
            "✅ Dự đoán ảnh `005c9b878a991542a9ef16d08d4fefc0  -.jpg` là số: 5\n"
          ]
        },
        {
          "output_type": "display_data",
          "data": {
            "text/plain": [
              "<Figure size 640x480 with 1 Axes>"
            ],
            "image/png": "[encoded data removed]"
          },
          "metadata": {}
        },
        {
          "output_type": "stream",
          "name": "stdout",
          "text": [
            "✅ Dự đoán ảnh `005deceb590ce0fd4f372d0fdaf11315  -.png` là số: 0\n"
          ]
        },
        {
          "output_type": "display_data",
          "data": {
            "text/plain": [
              "<Figure size 640x480 with 1 Axes>"
            ],
            "image/png": "[encoded data removed]"
          },
          "metadata": {}
        },
        {
          "output_type": "stream",
          "name": "stdout",
          "text": [
            "✅ Dự đoán ảnh `006c571c090bc36b06c2a1afff6e6454  -.jpg` là số: 0\n"
          ]
        },
        {
          "output_type": "display_data",
          "data": {
            "text/plain": [
              "<Figure size 640x480 with 1 Axes>"
            ],
            "image/png": "[encoded data removed]"
          },
          "metadata": {}
        },
        {
          "output_type": "stream",
          "name": "stdout",
          "text": [
            "✅ Dự đoán ảnh `0088eefbcb1fb77d445ae0119396d121  -.jpg` là số: 4\n"
          ]
        },
        {
          "output_type": "display_data",
          "data": {
            "text/plain": [
              "<Figure size 640x480 with 1 Axes>"
            ],
            "image/png": "[encoded data removed]"
          },
          "metadata": {}
        },
        {
          "output_type": "stream",
          "name": "stdout",
          "text": [
            "✅ Dự đoán ảnh `00a868f39ea809d774caf47e9a4f4fdb  -.jpg` là số: 6\n"
          ]
        },
        {
          "output_type": "display_data",
          "data": {
            "text/plain": [
              "<Figure size 640x480 with 1 Axes>"
            ],
            "image/png": "[encoded data removed]"
          },
          "metadata": {}
        },
        {
          "output_type": "stream",
          "name": "stdout",
          "text": [
            "✅ Dự đoán ảnh `00ab399ec62aa68f59dcbf958d7a37c8  -.jpg` là số: 1\n"
          ]
        },
        {
          "output_type": "display_data",
          "data": {
            "text/plain": [
              "<Figure size 640x480 with 1 Axes>"
            ],
            "image/png": "[encoded data removed]"
          },
          "metadata": {}
        },
        {
          "output_type": "stream",
          "name": "stdout",
          "text": [
            "✅ Dự đoán ảnh `00c6d06c2c643aa73762bba95c209a84  -.png` là số: 5\n"
          ]
        },
        {
          "output_type": "display_data",
          "data": {
            "text/plain": [
              "<Figure size 640x480 with 1 Axes>"
            ],
            "image/png": "[encoded data removed]"
          },
          "metadata": {}
        },
        {
          "output_type": "stream",
          "name": "stdout",
          "text": [
            "✅ Dự đoán ảnh `00d9f4112797c50d4d060fec9390ab8b  -.jpg` là số: 1\n"
          ]
        },
        {
          "output_type": "display_data",
          "data": {
            "text/plain": [
              "<Figure size 640x480 with 1 Axes>"
            ],
            "image/png": "[encoded data removed]"
          },
          "metadata": {}
        },
        {
          "output_type": "stream",
          "name": "stdout",
          "text": [
            "✅ Dự đoán ảnh `00fc80d82e187839c67b437376afecb7  -.jpg` là số: 2\n"
          ]
        },
        {
          "output_type": "display_data",
          "data": {
            "text/plain": [
              "<Figure size 640x480 with 1 Axes>"
            ],
            "image/png": "[encoded data removed]"
          },
          "metadata": {}
        },
        {
          "output_type": "stream",
          "name": "stdout",
          "text": [
            "✅ Dự đoán ảnh `0103e1ce71772ffe469463420a3ea1e8  -.jpg` là số: 8\n"
          ]
        },
        {
          "output_type": "display_data",
          "data": {
            "text/plain": [
              "<Figure size 640x480 with 1 Axes>"
            ],
            "image/png": "[encoded data removed]"
          },
          "metadata": {}
        },
        {
          "output_type": "stream",
          "name": "stdout",
          "text": [
            "✅ Dự đoán ảnh `011b2ce56b890dd986e5da4012eccfa2  -.JPG` là số: 1\n"
          ]
        },
        {
          "output_type": "display_data",
          "data": {
            "text/plain": [
              "<Figure size 640x480 with 1 Axes>"
            ],
            "image/png": "[encoded data removed]"
          },
          "metadata": {}
        },
        {
          "output_type": "stream",
          "name": "stdout",
          "text": [
            "✅ Dự đoán ảnh `013125b0fe96e385744d6658433bb69f  -.jpg` là số: 8\n"
          ]
        },
        {
          "output_type": "display_data",
          "data": {
            "text/plain": [
              "<Figure size 640x480 with 1 Axes>"
            ],
            "image/png": "[encoded data removed]"
          },
          "metadata": {}
        },
        {
          "output_type": "stream",
          "name": "stdout",
          "text": [
            "✅ Dự đoán ảnh `013c1b9846746bcb95f05730a4f7bedd  -.jpg` là số: 8\n"
          ]
        },
        {
          "output_type": "display_data",
          "data": {
            "text/plain": [
              "<Figure size 640x480 with 1 Axes>"
            ],
            "image/png": "[encoded data removed]"
          },
          "metadata": {}
        },
        {
          "output_type": "stream",
          "name": "stdout",
          "text": [
            "✅ Dự đoán ảnh `01431e6d28e82d1a60c6d92f252a0315  -.png` là số: 5\n"
          ]
        },
        {
          "output_type": "display_data",
          "data": {
            "text/plain": [
              "<Figure size 640x480 with 1 Axes>"
            ],
            "image/png": "[encoded data removed]"
          },
          "metadata": {}
        },
        {
          "output_type": "stream",
          "name": "stdout",
          "text": [
            "✅ Dự đoán ảnh `014d8558151ea9191524c9b5e3319354  -.png` là số: 5\n"
          ]
        },
        {
          "output_type": "display_data",
          "data": {
            "text/plain": [
              "<Figure size 640x480 with 1 Axes>"
            ],
            "image/png": "[encoded data removed]"
          },
          "metadata": {}
        }
      ]
    },
    {
      "cell_type": "code",
      "source": [
        "import pyheif\n",
        "from PIL import Image\n",
        "\n",
        "def read_image(path):\n",
        "    if path.lower().endswith('.heic'):\n",
        "        heif_file = pyheif.read(path)\n",
        "        image = Image.frombytes(\n",
        "            heif_file.mode, heif_file.size, heif_file.data,\n",
        "            \"raw\", heif_file.mode, heif_file.stride,\n",
        "        )\n",
        "        return np.array(image)\n",
        "    else:\n",
        "        image = cv2.imread(path)\n",
        "        return cv2.cvtColor(image, cv2.COLOR_BGR2RGB)"
      ],
      "metadata": {
        "id": "K8d-icqPJtpH"
      },
      "execution_count": 353,
      "outputs": []
    },
    {
      "cell_type": "code",
      "source": [
        "!pip install pyheif"
      ],
      "metadata": {
        "colab": {
          "base_uri": "https://localhost:8080/"
        },
        "id": "Q2we-EZEQoMM",
        "outputId": "98b569b1-e017-43ed-d450-dcde44bdff8e"
      },
      "execution_count": 331,
      "outputs": [
        {
          "output_type": "stream",
          "name": "stdout",
          "text": [
            "Requirement already satisfied: pyheif in /usr/local/lib/python3.11/dist-packages (0.8.0)\n",
            "Requirement already satisfied: cffi>=1.0.0 in /usr/local/lib/python3.11/dist-packages (from pyheif) (1.17.1)\n",
            "Requirement already satisfied: pycparser in /usr/local/lib/python3.11/dist-packages (from cffi>=1.0.0->pyheif) (2.22)\n"
          ]
        }
      ]
    },
    {
      "cell_type": "code",
      "source": [
        "from tqdm import tqdm\n",
        "import pandas as pd # Import the pandas library\n",
        "\n",
        "results = []\n",
        "\n",
        "for filename in tqdm(sorted(os.listdir(data_2025))):\n",
        "    if filename.lower().endswith(('.jpg', '.jpeg', '.png', '.heic',\".jfif\")):\n",
        "        try:\n",
        "            path = os.path.join(data_2025, filename)\n",
        "            # Ensure preprocess_image is defined and available in this scope\n",
        "            image = preprocess_image(path).to(device)\n",
        "            with torch.no_grad():\n",
        "                output = model(image)\n",
        "                pred = output.argmax(dim=1).item()\n",
        "                results.append((filename, pred))\n",
        "        except Exception as e:\n",
        "            print(f\"Lỗi xử lý {filename}: {e}\")\n",
        "\n",
        "# === Ghi ra file submission.csv ===\n",
        "df = pd.DataFrame(results, columns=[\"filename\", \"digit\"])\n",
        "df.to_csv(\"submission.csv\", index=False, header=False)\n",
        "print(\"✅ Đã lưu file submission.csv xong!\")"
      ],
      "metadata": {
        "id": "9TO2BCY_QcWl"
      },
      "execution_count": null,
      "outputs": []
    },
    {
      "cell_type": "code",
      "source": [
        "import os\n",
        "from datetime import datetime\n",
        "import pandas as pd\n",
        "\n",
        "# === 1. Tạo thư mục mới theo thời gian thực ===\n",
        "timestamp = datetime.now().strftime(\"%Y%m%d_%H%M%S\")\n",
        "result_dir = f\"/content/results/result_{timestamp}\"\n",
        "os.makedirs(result_dir, exist_ok=True)\n",
        "\n",
        "# === 2. Lưu file submission.csv ===\n",
        "df = pd.DataFrame(results, columns=[\"filename\", \"digit\"])\n",
        "csv_path = os.path.join(result_dir, \"submission.csv\")\n",
        "df.to_csv(csv_path, index=False, header=False)\n",
        "print(f\"✅ Đã lưu: {csv_path}\")\n",
        "\n",
        "# === 3. Lưu code preprocesses và remove_lines ===\n",
        "preprocess_code = \"\"\"\n",
        "from scipy import ndimage\n",
        "import cv2\n",
        "import numpy as np\n",
        "from PIL import Image\n",
        "import torchvision.transforms as transforms\n",
        "\n",
        "def auto_threshold_params(image_np):\n",
        "    std = np.std(image_np)\n",
        "    if std < 30:\n",
        "        return 11, 2\n",
        "    elif std < 50:\n",
        "        return 15, 4\n",
        "    else:\n",
        "        return 21, 6\n",
        "\n",
        "def remove_lines(thresh_img):\n",
        "    # Kernel cho đường ngang và dọc\n",
        "    horizontal_kernel = cv2.getStructuringElement(cv2.MORPH_RECT, (40, 1))\n",
        "    vertical_kernel = cv2.getStructuringElement(cv2.MORPH_RECT, (1, 40))\n",
        "\n",
        "    # Tìm và loại bỏ đường ngang\n",
        "    horizontal_lines = cv2.morphologyEx(thresh_img, cv2.MORPH_OPEN, horizontal_kernel, iterations=1)\n",
        "    # Tìm và loại bỏ đường dọc\n",
        "    vertical_lines = cv2.morphologyEx(thresh_img, cv2.MORPH_OPEN, vertical_kernel, iterations=1)\n",
        "\n",
        "    # Kết hợp các đường\n",
        "    lines = cv2.bitwise_or(horizontal_lines, vertical_lines)\n",
        "\n",
        "    # Trừ đường kẻ ra khỏi ảnh\n",
        "    cleaned = cv2.subtract(thresh_img, lines)\n",
        "    return cleaned\n",
        "\n",
        "def center_image(img):\n",
        "    cy, cx = ndimage.center_of_mass(img)\n",
        "    shiftx = np.round(img.shape[1] / 2.0 - cx).astype(int)\n",
        "    shifty = np.round(img.shape[0] / 2.0 - cy).astype(int)\n",
        "    return ndimage.shift(img, shift=(shifty, shiftx), mode='constant', cval=0)\n",
        "\n",
        "def preprocess_image(img_path):\n",
        "    image = Image.open(img_path).convert(\"L\")\n",
        "    image_np = np.array(image)\n",
        "\n",
        "    # Adaptive threshold với blockSize và C tự động\n",
        "    blockSize, C = auto_threshold_params(image_np)\n",
        "    blurred = cv2.GaussianBlur(image_np, (5, 5), 0)\n",
        "    thresh = cv2.adaptiveThreshold(blurred, 255,\n",
        "                                   cv2.ADAPTIVE_THRESH_GAUSSIAN_C,\n",
        "                                   cv2.THRESH_BINARY_INV, blockSize, C)\n",
        "\n",
        "    # Xóa đường kẻ ô tập\n",
        "    thresh_clean = remove_lines(thresh)\n",
        "\n",
        "    # Tìm contour\n",
        "    contours, _ = cv2.findContours(thresh_clean, cv2.RETR_EXTERNAL, cv2.CHAIN_APPROX_SIMPLE)\n",
        "    valid_contours = []\n",
        "    for c in contours:\n",
        "        x, y, w, h = cv2.boundingRect(c)\n",
        "        if h > 10 and w > 5:\n",
        "            valid_contours.append(c)\n",
        "\n",
        "    if not valid_contours:\n",
        "        raise ValueError(\"Không có contour đủ lớn\")\n",
        "\n",
        "    xs, ys, xe, ye = [], [], [], []\n",
        "    for c in valid_contours:\n",
        "        x, y, w, h = cv2.boundingRect(c)\n",
        "        xs.append(x)\n",
        "        ys.append(y)\n",
        "        xe.append(x + w)\n",
        "        ye.append(y + h)\n",
        "    x1, y1 = max(min(xs) - 5, 0), max(min(ys) - 5, 0)\n",
        "    x2, y2 = min(max(xe) + 5, thresh.shape[1]), min(max(ye) + 5, thresh.shape[0])\n",
        "\n",
        "    digit = thresh_clean[y1:y2, x1:x2]\n",
        "    digit = cv2.resize(digit, (20, 20), interpolation=cv2.INTER_AREA)\n",
        "    digit = np.pad(digit, ((4, 4), (4, 4)), mode='constant', constant_values=0)\n",
        "    digit = center_image(digit)\n",
        "\n",
        "    tensor = transforms.ToTensor()(digit).unsqueeze(0)\n",
        "    return tensor\n",
        "\n",
        "\n",
        "\"\"\"\n",
        "code_path = os.path.join(result_dir, \"preprocessing_code.py\")\n",
        "with open(code_path, \"w\") as f:\n",
        "    f.write(preprocess_code)\n",
        "print(f\"🛠️ Đã lưu code xử lý ảnh: {code_path}\")\n",
        "\n",
        "\n",
        "# === 4. Nhập nội dung ghi chú và lưu vào note.txt ===\n",
        "note = input(\"✍️ Nhập ghi chú :\\n\")\n",
        "note_path = os.path.join(result_dir, \"note.txt\")\n",
        "with open(note_path, \"w\") as f:\n",
        "    f.write(note)\n",
        "print(f\"📝 Đã lưu ghi chú: {note_path}\")"
      ],
      "metadata": {
        "colab": {
          "base_uri": "https://localhost:8080/"
        },
        "id": "-UiY1oe5YO_X",
        "outputId": "f2a84500-8507-41db-de6e-9ce13cd92c3c"
      },
      "execution_count": 234,
      "outputs": [
        {
          "output_type": "stream",
          "name": "stdout",
          "text": [
            "✅ Đã lưu: /content/results/result_20250623_213934/submission.csv\n",
            "🛠️ Đã lưu code xử lý ảnh: /content/results/result_20250623_213934/preprocessing_code.py\n",
            "✍️ Nhập ghi chú :\n",
            "274025\n",
            "📝 Đã lưu ghi chú: /content/results/result_20250623_213934/note.txt\n"
          ]
        }
      ]
    }
  ]
}